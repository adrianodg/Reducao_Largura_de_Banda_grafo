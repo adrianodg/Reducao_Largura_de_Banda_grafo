{
  "nbformat": 4,
  "nbformat_minor": 0,
  "metadata": {
    "colab": {
      "name": "reo4finalizado.ipynb",
      "provenance": [],
      "collapsed_sections": []
    },
    "kernelspec": {
      "name": "python3",
      "display_name": "Python 3"
    }
  },
  "cells": [
    {
      "cell_type": "markdown",
      "metadata": {
        "id": "QYWIx1uueIoW",
        "colab_type": "text"
      },
      "source": [
        "## Instalação das bibliotecas"
      ]
    },
    {
      "cell_type": "code",
      "metadata": {
        "id": "MQyRDy_vcgAQ",
        "colab_type": "code",
        "colab": {}
      },
      "source": [
        "#!pip install networkx"
      ],
      "execution_count": null,
      "outputs": []
    },
    {
      "cell_type": "markdown",
      "metadata": {
        "id": "GG_zY6xTAJ3r",
        "colab_type": "text"
      },
      "source": [
        "## Importação das bibliotecas"
      ]
    },
    {
      "cell_type": "code",
      "metadata": {
        "id": "J6IArL7WdKF0",
        "colab_type": "code",
        "colab": {}
      },
      "source": [
        "import matplotlib.pyplot as plt\n",
        "import networkx as nx\n",
        "import numpy as np\n",
        "import scipy as sp\n",
        "import math\n",
        "import random\n",
        "import copy\n",
        "import time\n",
        "\n",
        "from google.colab import files\n",
        "from networkx.utils import reverse_cuthill_mckee_ordering #RCM\n",
        "from scipy.io import mmread"
      ],
      "execution_count": null,
      "outputs": []
    },
    {
      "cell_type": "code",
      "metadata": {
        "id": "tQQeWSYEsXDz",
        "colab_type": "code",
        "colab": {}
      },
      "source": [
        "# Funcao para calcular os pesos da matriz de adjacencia\n",
        "\n",
        "def calcula_pesos_arestas(m_a): # Recebe uma matriz de adjacencia csr\n",
        "    n_vx = m_a.shape[0]\n",
        "    n_vy = m_a.shape[1]\n",
        "    for i in range(n_vx):\n",
        "        for j in range(n_vy):\n",
        "            if (m_a[i,j] != 0):\n",
        "                if (j - i > 0):\n",
        "                    m_a[i,j] = j - i\n",
        "                else:\n",
        "                    m_a[i,j] = -(j - i)\n",
        "    return m_a # Retorna matriz de adjacencia com pesos"
      ],
      "execution_count": null,
      "outputs": []
    },
    {
      "cell_type": "code",
      "metadata": {
        "id": "3XBc-1EadKoj",
        "colab_type": "code",
        "colab": {}
      },
      "source": [
        "# Funcao para calcular a largura de banda da matriz\n",
        "\n",
        "def maiorBanda(m_a): # Recebe uma matriz de adjacencia\n",
        "    n_vx = m_a.shape[0]\n",
        "    n_vy = m_a.shape[1]\n",
        "    maior = 1\n",
        "    for i in range(n_vx):\n",
        "        for j in range(n_vy):\n",
        "            if m_a[i,j] > 0 and m_a[i,j] > maior:\n",
        "                maior = m_a[i,j]\n",
        "                #print('\\n\\n\\n', maior, '\\n\\n\\n')\n",
        "    return maior # Retorna a maior largura de banda"
      ],
      "execution_count": null,
      "outputs": []
    },
    {
      "cell_type": "code",
      "metadata": {
        "id": "GfnzwH1SdKyY",
        "colab_type": "code",
        "colab": {}
      },
      "source": [
        "# Funcao para fazer o upload das matrizes analisadas\n",
        "\n",
        "def fazerUploadMatrizes(lm): # Recebe uma lista vazia\n",
        "    uploaded = files.upload()\n",
        "    for fn in uploaded.keys():\n",
        "        print('User uploaded file \"{name}\" with length {length} bytes'.format(\n",
        "        name=fn, length=len(uploaded[fn])), '\\n')\n",
        "        lm.append(fn)\n",
        "    \n",
        "    return lm # Retorna uma lista de matrizes esparsas"
      ],
      "execution_count": null,
      "outputs": []
    },
    {
      "cell_type": "code",
      "metadata": {
        "id": "CX7JdYKQdKwX",
        "colab_type": "code",
        "colab": {}
      },
      "source": [
        "# Funcao para plotar um grafo com algumas informacoes\n",
        "\n",
        "def mostrarGrafo(G): # Recebe um grafo\n",
        "    print('Lista dos graus: ', nx.degree_histogram(G), '\\n')\n",
        "    print(nx.info(G), '\\n')\n",
        "    nx.draw(G, with_labels=True)"
      ],
      "execution_count": null,
      "outputs": []
    },
    {
      "cell_type": "code",
      "metadata": {
        "id": "yIHJC2EdEW7f",
        "colab_type": "code",
        "colab": {}
      },
      "source": [
        "# Funcao para aplicar a heuristica reverse_cuthill_mckee\n",
        "\n",
        "def rcm(grafo): # Recebe um grafo\n",
        "    nlist = list(reverse_cuthill_mckee_ordering(grafo,heuristic=escolhe_ini_rcm))\n",
        "\n",
        "    # Retorna uma matriz esparsa com os pesos atualizados depois de aplicar o rcm\n",
        "    return calcula_pesos_arestas(nx.to_scipy_sparse_matrix(grafo, nodelist=nlist))"
      ],
      "execution_count": null,
      "outputs": []
    },
    {
      "cell_type": "code",
      "metadata": {
        "id": "wUCYYQktJQUx",
        "colab_type": "code",
        "colab": {}
      },
      "source": [
        "# Funcao para aplicar a heuristica reverse_cuthill_mckee\n",
        "\n",
        "def rcm_menor(grafo): # Recebe um grafo\n",
        "    nlist = list(reverse_cuthill_mckee_ordering(grafo,heuristic=smallest_degree))\n",
        "\n",
        "    # Retorna uma matriz esparsa com os pesos atualizados depois de aplicar o rcm\n",
        "    return calcula_pesos_arestas(nx.to_scipy_sparse_matrix(grafo, nodelist=nlist))"
      ],
      "execution_count": null,
      "outputs": []
    },
    {
      "cell_type": "code",
      "metadata": {
        "id": "xGiNHUtuRHi4",
        "colab_type": "code",
        "colab": {}
      },
      "source": [
        "# Funcao para escolher um vertice aleatorio de um grafo\n",
        "\n",
        "def escolhe_ini_rcm(g): # Recebe um grafo\n",
        "\n",
        "    # Retorna um vertice aleatorio\n",
        "    return random.randint(0,(g.number_of_nodes()-1))"
      ],
      "execution_count": null,
      "outputs": []
    },
    {
      "cell_type": "code",
      "metadata": {
        "id": "zbPE8JEILmEZ",
        "colab_type": "code",
        "colab": {}
      },
      "source": [
        "def smallest_degree(G):\n",
        "    return min(G, key=G.degree)"
      ],
      "execution_count": null,
      "outputs": []
    },
    {
      "cell_type": "code",
      "metadata": {
        "id": "uQfmLtZ9wfd4",
        "colab_type": "code",
        "colab": {}
      },
      "source": [
        "# Funcao para criar a populacao inicial\n",
        "\n",
        "def criar_populacao_inicial(mz, tam): # Recebe uma matriz de adjacencia\n",
        "                                      # e o tamanho da populacao\n",
        "    \n",
        "    populacao = []\n",
        "    g = nx.from_scipy_sparse_matrix(mz)\n",
        "\n",
        "\n",
        "    for i in range(0, tam):\n",
        "        populacao.append(rcm(g))\n",
        "    \n",
        "    return populacao # Retorna uma lista de matrizes"
      ],
      "execution_count": null,
      "outputs": []
    },
    {
      "cell_type": "code",
      "metadata": {
        "id": "XRlddQZ5UzCz",
        "colab_type": "code",
        "colab": {}
      },
      "source": [
        "# Funcao para cruzar dois membros da populacao\n",
        "\n",
        "def crossover(populacao, lista_larguras, indice1, indice2, taxa_mutacao): \n",
        "    # Recebe a lista de matrizes (populacao), a lista de largura de banda da\n",
        "    # populacao, os indices dos dois membros que serao cruzados e a taxa de\n",
        "    # mutacao\n",
        "    x = random.uniform(0.00, 1)\n",
        "\n",
        "    if (lista_larguras[indice1] > lista_larguras[indice2]):\n",
        "        if (x <= taxa_mutacao): # Se ocorrer mutacao, retorna o pior membro\n",
        "            return populacao[indice1]\n",
        "        return criar_novo_membro(populacao[indice2]) # Se nao retorna o melhor membro com rcm\n",
        "    else:\n",
        "        if (x <= taxa_mutacao): # Se ocorrer mutacao, retorna o pior membro\n",
        "            return populacao[indice2]\n",
        "        return criar_novo_membro(populacao[indice1]) # Se nao retorna o melhor membro com rcm\n",
        "        \n",
        "    # Retorna a matriz (membro) que tem menor largura de banda entre as duas"
      ],
      "execution_count": null,
      "outputs": []
    },
    {
      "cell_type": "code",
      "metadata": {
        "id": "OqGnR8PS4qXI",
        "colab_type": "code",
        "colab": {}
      },
      "source": [
        "# Funcao para calcular a largura de banda de cada membro da populacao\n",
        "\n",
        "def calcular_largura_banda_populacao(populacao): \n",
        "    # Recebe a lista (pupulacao) de matrizes\n",
        "\n",
        "    lbp = []\n",
        "\n",
        "    for i in range(0, len(populacao)):\n",
        "        #print('\\n\\n', maiorBanda(populacao[i]), '\\n\\n')\n",
        "        lbp.append(maiorBanda(populacao[i]))\n",
        "    \n",
        "    return lbp # Retorna uma lista com a largura de banda de todos os membros da populacao"
      ],
      "execution_count": null,
      "outputs": []
    },
    {
      "cell_type": "code",
      "metadata": {
        "id": "9mMC-dnm7Vku",
        "colab_type": "code",
        "colab": {}
      },
      "source": [
        "# Funcao para criar um novo membro\n",
        "\n",
        "def criar_novo_membro(mz): # Recebe uma matriz\n",
        "    return rcm(nx.from_scipy_sparse_matrix(mz)) # Retorna uma matriz que representa o membro"
      ],
      "execution_count": null,
      "outputs": []
    },
    {
      "cell_type": "code",
      "metadata": {
        "id": "fNhhsjuP_Y8o",
        "colab_type": "code",
        "colab": {}
      },
      "source": [
        "# Funcao para escolher um membro da populacao\n",
        "\n",
        "def escolhe_reprodutor(lista_de_bandas): # Recebe a lista de largura de banda  \n",
        "                                         # da populacao\n",
        "\n",
        "    array = np.array(lista_de_bandas)\n",
        "    temp = array.argsort()\n",
        "    ranks = np.empty_like(temp)\n",
        "    ranks[temp] = np.arange(len(array))\n",
        "\n",
        "    fitness = [len(ranks) - x for x in ranks]\n",
        "    \n",
        "    cum_scores = copy.deepcopy(fitness)\n",
        "    \n",
        "    for i in range(1,len(cum_scores)):\n",
        "        cum_scores[i] = fitness[i] + cum_scores[i-1]\n",
        "        \n",
        "    probs = [x / cum_scores[-1] for x in cum_scores]\n",
        "    \n",
        "    rand = random.random()\n",
        "    \n",
        "    for i in range(0, len(probs)):\n",
        "        if rand < probs[i]:\n",
        "            return i\n",
        "\n",
        "    # Retorna o indice do membro que vai reproduzir"
      ],
      "execution_count": null,
      "outputs": []
    },
    {
      "cell_type": "code",
      "metadata": {
        "id": "Ms-ZVNtIr8uf",
        "colab_type": "code",
        "colab": {
          "resources": {
            "http://localhost:8080/nbextensions/google.colab/files.js": {
              "data": "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",
              "ok": true,
              "headers": [
                [
                  "content-type",
                  "application/javascript"
                ]
              ],
              "status": 200,
              "status_text": "OK"
            }
          },
          "base_uri": "https://localhost:8080/",
          "height": 133
        },
        "outputId": "053ab5a1-109c-43f8-cd4e-8b8a0a6b0004"
      },
      "source": [
        "# Gera a lista de matrizes de upload\n",
        "lm = []\n",
        "lista_de_matrizes = fazerUploadMatrizes(lm) \n",
        "print(lista_de_matrizes)"
      ],
      "execution_count": null,
      "outputs": [
        {
          "output_type": "display_data",
          "data": {
            "text/html": [
              "\n",
              "     <input type=\"file\" id=\"files-2f2512f2-89c3-481f-88b3-99e7fee68f7b\" name=\"files[]\" multiple disabled\n",
              "        style=\"border:none\" />\n",
              "     <output id=\"result-2f2512f2-89c3-481f-88b3-99e7fee68f7b\">\n",
              "      Upload widget is only available when the cell has been executed in the\n",
              "      current browser session. Please rerun this cell to enable.\n",
              "      </output>\n",
              "      <script src=\"/nbextensions/google.colab/files.js\"></script> "
            ],
            "text/plain": [
              "<IPython.core.display.HTML object>"
            ]
          },
          "metadata": {
            "tags": []
          }
        },
        {
          "output_type": "stream",
          "text": [
            "Saving 1138_bus.mtx to 1138_bus.mtx\n",
            "User uploaded file \"1138_bus.mtx\" with length 45522 bytes \n",
            "\n",
            "['1138_bus.mtx']\n"
          ],
          "name": "stdout"
        }
      ]
    },
    {
      "cell_type": "code",
      "metadata": {
        "id": "Mf0zAGWTc93a",
        "colab_type": "code",
        "colab": {}
      },
      "source": [
        "def Plotar_Grafo_Depois_Da_Heuristica(Largura_D_B_Ini,menor_historia):\n",
        "  v1 = []\n",
        "  v2 = []\n",
        "  Largura_D_B_Ini = Largura_D_B_Ini + 250\n",
        "  n_vx = menor_historia.shape[0]\n",
        "  n_vy = menor_historia.shape[1]\n",
        "\n",
        "  for i in range(n_vx):\n",
        "      for j in range(n_vy):\n",
        "          if (menor_historia[i,j] != 0):\n",
        "            v1.append(i)\n",
        "            v2.append(j)\n",
        "\n",
        "  plt.plot(v1,v2,'ro')\n",
        "  plt.axis([-50, Largura_D_B_Ini, -50, Largura_D_B_Ini])\n",
        "  plt.show()"
      ],
      "execution_count": null,
      "outputs": []
    },
    {
      "cell_type": "code",
      "metadata": {
        "id": "yZ8o-sTKFQOu",
        "colab_type": "code",
        "colab": {}
      },
      "source": [
        "def main():\n",
        "    # Parametros\n",
        "    tamanho_populacao = 20  # math.ceil(m.shape[0] / 2)\n",
        "    numero_de_casais = 8\n",
        "    numero_de_iteracoes = 30\n",
        "    pbb_m = 0.05 # probabilidade de mutacao\n",
        "\n",
        "    inicio = time.time() # Tempo no inicio\n",
        "    \n",
        "                                                                 #|# Escolher o indice da matriz\n",
        "    # Gera a matriz e calcula seus pesos de aresta               #v# do upload\n",
        "    matriz = calcula_pesos_arestas(sp.io.mmread(lista_de_matrizes[0]).tocsr())\n",
        "    Largura_D_B_Ini = maiorBanda(matriz)\n",
        "    # Calcula a largura de banda da matriz inicial\n",
        "    print(f'Largura de banda da matriz inicial: {Largura_D_B_Ini} -------\\n')\n",
        "\n",
        "    Plotar_Grafo_Depois_Da_Heuristica(Largura_D_B_Ini, matriz)\n",
        "\n",
        "    # Cria a populacao inicial\n",
        "    populacao = criar_populacao_inicial(matriz, tamanho_populacao)\n",
        "\n",
        "    # Melhor matriz da heuristica\n",
        "    menor_historia = matriz\n",
        "\n",
        "    # Valor da largura de banda da melhor matriz da heuristica\n",
        "    valor_menor_historia = matriz.shape[0]\n",
        "\n",
        "    for i in range(0, numero_de_iteracoes):\n",
        "        nova_populacao = []\n",
        "        \n",
        "        # Calcula a largura de banda para todos os membros da populacao\n",
        "        l_b_pop = calcular_largura_banda_populacao(populacao)\n",
        "\n",
        "        print('Lista de larguras: ', l_b_pop, '\\n')\n",
        "\n",
        "        # Menor valor de largura de banda\n",
        "        valMenor = min(l_b_pop)\n",
        "\n",
        "        # Indice da menor largura de banda\n",
        "        iMenor = np.argmin(l_b_pop)\n",
        "\n",
        "        if (valMenor < valor_menor_historia):\n",
        "            valor_menor_historia = valMenor\n",
        "            menor_historia = populacao[iMenor]\n",
        "\n",
        "        # Imprime a menor largura de banda da populacao\n",
        "        print(f'{i}) Menor largura de banda atual: ', valMenor, '\\n')\n",
        "\n",
        "        # Cria a nova populacao cruzando os melhores individuos\n",
        "        for j in range(0, numero_de_casais):\n",
        "            novo_membro = crossover(populacao, l_b_pop, escolhe_reprodutor(l_b_pop), \n",
        "                                    escolhe_reprodutor(l_b_pop), pbb_m)\n",
        "            nova_populacao.append(novo_membro)\n",
        "\n",
        "        # Adiciona novos membros aleatorios\n",
        "        while (len(nova_populacao) < tamanho_populacao):\n",
        "            nova_populacao.append(criar_novo_membro(matriz))\n",
        "\n",
        "        # Copia a populacao antiga pela populacao nova\n",
        "        populacao = copy.deepcopy(nova_populacao)\n",
        "     \n",
        "    print('Melhor valor de largura de banda encontrado: ', valor_menor_historia, '\\n')\n",
        "\n",
        "    print('Tempo de execucao: ', f'{time.time() - inicio}s\\n' )\n",
        "\n",
        "    Plotar_Grafo_Depois_Da_Heuristica(Largura_D_B_Ini, menor_historia)\n"
      ],
      "execution_count": null,
      "outputs": []
    },
    {
      "cell_type": "code",
      "metadata": {
        "id": "nGLwnLAJqMq5",
        "colab_type": "code",
        "colab": {
          "base_uri": "https://localhost:8080/",
          "height": 1000
        },
        "outputId": "d6975acc-5f8d-4a9b-d2ca-39eb6273185d"
      },
      "source": [
        "main()"
      ],
      "execution_count": null,
      "outputs": [
        {
          "output_type": "stream",
          "text": [
            "Largura de banda da matriz inicial: 1030.0 -------\n",
            "\n"
          ],
          "name": "stdout"
        },
        {
          "output_type": "display_data",
          "data": {
            "image/png": "[encoded data removed]",
            "text/plain": [
              "<Figure size 432x288 with 1 Axes>"
            ]
          },
          "metadata": {
            "tags": [],
            "needs_background": "light"
          }
        },
        {
          "output_type": "stream",
          "text": [
            "Lista de larguras:  [199.0, 127.0, 157.0, 159.0, 199.0, 119.0, 136.0, 147.0, 132.0, 121.0, 144.0, 147.0, 157.0, 148.0, 132.0, 133.0, 122.0, 110.0, 113.0, 125.0] \n",
            "\n",
            "0) Menor largura de banda atual:  110.0 \n",
            "\n",
            "Lista de larguras:  [166.0, 125.0, 148.0, 145.0, 140.0, 150.0, 147.0, 150.0, 127.0, 160.0, 132.0, 156.0, 147.0, 158.0, 171.0, 141.0, 176.0, 114.0, 132.0, 131.0] \n",
            "\n",
            "1) Menor largura de banda atual:  114.0 \n",
            "\n",
            "Lista de larguras:  [157.0, 170.0, 132.0, 158.0, 137.0, 150.0, 144.0, 132.0, 164.0, 165.0, 125.0, 147.0, 140.0, 164.0, 127.0, 145.0, 144.0, 127.0, 135.0, 156.0] \n",
            "\n",
            "2) Menor largura de banda atual:  125.0 \n",
            "\n",
            "Lista de larguras:  [156.0, 135.0, 164.0, 142.0, 120.0, 124.0, 131.0, 131.0, 132.0, 131.0, 167.0, 110.0, 149.0, 134.0, 127.0, 134.0, 159.0, 189.0, 147.0, 152.0] \n",
            "\n",
            "3) Menor largura de banda atual:  110.0 \n",
            "\n",
            "Lista de larguras:  [132.0, 134.0, 124.0, 142.0, 160.0, 134.0, 118.0, 113.0, 159.0, 130.0, 140.0, 110.0, 130.0, 161.0, 127.0, 130.0, 130.0, 155.0, 110.0, 132.0] \n",
            "\n",
            "4) Menor largura de banda atual:  110.0 \n",
            "\n",
            "Lista de larguras:  [148.0, 141.0, 144.0, 157.0, 144.0, 157.0, 123.0, 152.0, 147.0, 123.0, 177.0, 148.0, 115.0, 110.0, 121.0, 134.0, 152.0, 144.0, 155.0, 115.0] \n",
            "\n",
            "5) Menor largura de banda atual:  110.0 \n",
            "\n",
            "Lista de larguras:  [121.0, 154.0, 116.0, 156.0, 145.0, 156.0, 133.0, 165.0, 145.0, 158.0, 147.0, 132.0, 114.0, 164.0, 130.0, 182.0, 129.0, 144.0, 147.0, 139.0] \n",
            "\n",
            "6) Menor largura de banda atual:  114.0 \n",
            "\n",
            "Lista de larguras:  [121.0, 157.0, 132.0, 130.0, 156.0, 115.0, 115.0, 158.0, 153.0, 178.0, 154.0, 148.0, 165.0, 134.0, 156.0, 132.0, 196.0, 171.0, 134.0, 147.0] \n",
            "\n",
            "7) Menor largura de banda atual:  115.0 \n",
            "\n",
            "Lista de larguras:  [147.0, 135.0, 141.0, 124.0, 145.0, 110.0, 155.0, 130.0, 147.0, 139.0, 147.0, 162.0, 147.0, 171.0, 155.0, 157.0, 157.0, 147.0, 117.0, 130.0] \n",
            "\n",
            "8) Menor largura de banda atual:  110.0 \n",
            "\n",
            "Lista de larguras:  [115.0, 156.0, 128.0, 130.0, 161.0, 133.0, 137.0, 156.0, 156.0, 159.0, 133.0, 122.0, 141.0, 146.0, 135.0, 155.0, 147.0, 147.0, 144.0, 132.0] \n",
            "\n",
            "9) Menor largura de banda atual:  115.0 \n",
            "\n",
            "Lista de larguras:  [165.0, 127.0, 132.0, 144.0, 129.0, 156.0, 148.0, 132.0, 125.0, 199.0, 145.0, 127.0, 147.0, 173.0, 139.0, 147.0, 147.0, 144.0, 130.0, 110.0] \n",
            "\n",
            "10) Menor largura de banda atual:  110.0 \n",
            "\n",
            "Lista de larguras:  [136.0, 135.0, 133.0, 156.0, 156.0, 146.0, 132.0, 132.0, 135.0, 120.0, 139.0, 134.0, 132.0, 139.0, 142.0, 132.0, 165.0, 159.0, 161.0, 171.0] \n",
            "\n",
            "11) Menor largura de banda atual:  120.0 \n",
            "\n",
            "Lista de larguras:  [110.0, 148.0, 153.0, 157.0, 135.0, 170.0, 133.0, 159.0, 125.0, 141.0, 148.0, 157.0, 125.0, 165.0, 134.0, 147.0, 145.0, 157.0, 157.0, 159.0] \n",
            "\n",
            "12) Menor largura de banda atual:  110.0 \n",
            "\n",
            "Lista de larguras:  [134.0, 148.0, 122.0, 114.0, 145.0, 114.0, 163.0, 132.0, 156.0, 132.0, 142.0, 125.0, 127.0, 139.0, 135.0, 127.0, 150.0, 142.0, 147.0, 113.0] \n",
            "\n",
            "13) Menor largura de banda atual:  113.0 \n",
            "\n",
            "Lista de larguras:  [155.0, 146.0, 135.0, 135.0, 123.0, 135.0, 119.0, 139.0, 157.0, 155.0, 187.0, 155.0, 113.0, 158.0, 114.0, 136.0, 155.0, 118.0, 123.0, 114.0] \n",
            "\n",
            "14) Menor largura de banda atual:  113.0 \n",
            "\n",
            "Lista de larguras:  [158.0, 123.0, 155.0, 135.0, 142.0, 123.0, 156.0, 164.0, 131.0, 135.0, 131.0, 144.0, 157.0, 125.0, 115.0, 157.0, 169.0, 139.0, 132.0, 162.0] \n",
            "\n",
            "15) Menor largura de banda atual:  115.0 \n",
            "\n",
            "Lista de larguras:  [142.0, 126.0, 176.0, 121.0, 125.0, 130.0, 157.0, 164.0, 157.0, 152.0, 113.0, 129.0, 147.0, 159.0, 141.0, 115.0, 114.0, 157.0, 131.0, 115.0] \n",
            "\n",
            "16) Menor largura de banda atual:  113.0 \n",
            "\n",
            "Lista de larguras:  [174.0, 168.0, 142.0, 144.0, 182.0, 126.0, 148.0, 119.0, 149.0, 156.0, 162.0, 126.0, 121.0, 113.0, 144.0, 135.0, 147.0, 158.0, 148.0, 165.0] \n",
            "\n",
            "17) Menor largura de banda atual:  113.0 \n",
            "\n",
            "Lista de larguras:  [160.0, 147.0, 127.0, 164.0, 124.0, 158.0, 134.0, 114.0, 144.0, 165.0, 121.0, 121.0, 156.0, 156.0, 125.0, 110.0, 137.0, 156.0, 142.0, 139.0] \n",
            "\n",
            "18) Menor largura de banda atual:  110.0 \n",
            "\n",
            "Lista de larguras:  [147.0, 200.0, 134.0, 130.0, 131.0, 156.0, 135.0, 147.0, 144.0, 137.0, 136.0, 157.0, 131.0, 157.0, 127.0, 129.0, 159.0, 113.0, 134.0, 116.0] \n",
            "\n",
            "19) Menor largura de banda atual:  113.0 \n",
            "\n",
            "Lista de larguras:  [160.0, 124.0, 134.0, 161.0, 131.0, 156.0, 132.0, 143.0, 123.0, 132.0, 169.0, 127.0, 157.0, 152.0, 130.0, 132.0, 168.0, 110.0, 137.0, 143.0] \n",
            "\n",
            "20) Menor largura de banda atual:  110.0 \n",
            "\n",
            "Lista de larguras:  [135.0, 134.0, 161.0, 130.0, 113.0, 182.0, 157.0, 126.0, 136.0, 147.0, 147.0, 147.0, 147.0, 182.0, 132.0, 159.0, 110.0, 139.0, 148.0, 134.0] \n",
            "\n",
            "21) Menor largura de banda atual:  110.0 \n",
            "\n",
            "Lista de larguras:  [149.0, 143.0, 133.0, 154.0, 160.0, 142.0, 129.0, 113.0, 173.0, 141.0, 110.0, 134.0, 153.0, 157.0, 120.0, 139.0, 127.0, 142.0, 139.0, 142.0] \n",
            "\n",
            "22) Menor largura de banda atual:  110.0 \n",
            "\n",
            "Lista de larguras:  [136.0, 146.0, 142.0, 127.0, 156.0, 136.0, 115.0, 146.0, 161.0, 142.0, 125.0, 157.0, 144.0, 143.0, 159.0, 139.0, 137.0, 147.0, 132.0, 162.0] \n",
            "\n",
            "23) Menor largura de banda atual:  115.0 \n",
            "\n",
            "Lista de larguras:  [131.0, 158.0, 158.0, 148.0, 125.0, 144.0, 135.0, 146.0, 145.0, 151.0, 145.0, 113.0, 110.0, 110.0, 136.0, 147.0, 152.0, 161.0, 115.0, 130.0] \n",
            "\n",
            "24) Menor largura de banda atual:  110.0 \n",
            "\n",
            "Lista de larguras:  [157.0, 158.0, 124.0, 155.0, 152.0, 176.0, 122.0, 132.0, 127.0, 158.0, 132.0, 159.0, 182.0, 142.0, 125.0, 127.0, 131.0, 148.0, 135.0, 132.0] \n",
            "\n",
            "25) Menor largura de banda atual:  122.0 \n",
            "\n",
            "Lista de larguras:  [134.0, 129.0, 124.0, 144.0, 145.0, 130.0, 158.0, 155.0, 137.0, 116.0, 127.0, 155.0, 157.0, 144.0, 162.0, 115.0, 157.0, 159.0, 155.0, 147.0] \n",
            "\n",
            "26) Menor largura de banda atual:  115.0 \n",
            "\n",
            "Lista de larguras:  [137.0, 124.0, 147.0, 147.0, 164.0, 134.0, 161.0, 124.0, 144.0, 176.0, 125.0, 160.0, 119.0, 132.0, 134.0, 147.0, 132.0, 146.0, 145.0, 122.0] \n",
            "\n",
            "27) Menor largura de banda atual:  119.0 \n",
            "\n",
            "Lista de larguras:  [113.0, 129.0, 169.0, 148.0, 159.0, 132.0, 142.0, 156.0, 137.0, 133.0, 138.0, 123.0, 147.0, 132.0, 158.0, 158.0, 156.0, 130.0, 168.0, 124.0] \n",
            "\n",
            "28) Menor largura de banda atual:  113.0 \n",
            "\n",
            "Lista de larguras:  [162.0, 120.0, 113.0, 177.0, 156.0, 137.0, 113.0, 162.0, 114.0, 160.0, 132.0, 125.0, 133.0, 189.0, 157.0, 114.0, 125.0, 144.0, 130.0, 132.0] \n",
            "\n",
            "29) Menor largura de banda atual:  113.0 \n",
            "\n",
            "Melhor valor de largura de banda encontrado:  110.0 \n",
            "\n",
            "Tempo de execucao:  27702.767169475555s\n",
            "\n"
          ],
          "name": "stdout"
        },
        {
          "output_type": "display_data",
          "data": {
            "image/png": "[encoded data removed]",
            "text/plain": [
              "<Figure size 432x288 with 1 Axes>"
            ]
          },
          "metadata": {
            "tags": [],
            "needs_background": "light"
          }
        }
      ]
    }
  ]
}